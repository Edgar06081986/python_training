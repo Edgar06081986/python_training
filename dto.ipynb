{
 "cells": [
  {
   "cell_type": "code",
   "execution_count": null,
   "metadata": {
    "vscode": {
     "languageId": "plaintext"
    }
   },
   "outputs": [],
   "source": [
    " \n",
    " with session_factory() as session:\n",
    "    query = (\n",
    "        select(WorkersOrm)\n",
    "    )\n",
    "\n",
    "    res = session.execute(query)\n",
    "    result = res.scalars().all()\n",
    "    print(result)"
   ]
  }
 ],
 "metadata": {
  "language_info": {
   "name": "python"
  }
 },
 "nbformat": 4,
 "nbformat_minor": 2
}
